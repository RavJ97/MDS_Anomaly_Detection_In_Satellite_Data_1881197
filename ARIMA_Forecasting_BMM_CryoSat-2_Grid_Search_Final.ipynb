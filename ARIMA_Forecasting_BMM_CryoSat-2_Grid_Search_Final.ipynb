{
 "cells": [
  {
   "cell_type": "code",
   "execution_count": 1,
   "metadata": {},
   "outputs": [],
   "source": [
    "import pmdarima as pm\n",
    "import pandas as pd"
   ]
  },
  {
   "cell_type": "code",
   "execution_count": 2,
   "metadata": {},
   "outputs": [
    {
     "data": {
      "text/plain": [
       "0       0.063403\n",
       "1       0.063403\n",
       "2       0.063403\n",
       "3       0.063403\n",
       "4       0.063403\n",
       "          ...   \n",
       "4303    0.063393\n",
       "4304    0.063393\n",
       "4305    0.063393\n",
       "4306    0.063393\n",
       "4307    0.063393\n",
       "Name: Brouwer mean motion, Length: 4308, dtype: float64"
      ]
     },
     "execution_count": 2,
     "metadata": {},
     "output_type": "execute_result"
    }
   ],
   "source": [
    "# Location to the file containing the csv file for the data\n",
    "csv_file_path = \"satellite_data/orbital_elements/unpropagated_elements_CryoSat-2.csv\"\n",
    "\n",
    "# Reading the csv data file and creating a dataframe\n",
    "df = pd.read_csv(csv_file_path)\n",
    "\n",
    "# Getting the target variable\n",
    "target_variable_bmm = df['Brouwer mean motion']\n",
    "target_variable_bmm"
   ]
  },
  {
   "cell_type": "code",
   "execution_count": 3,
   "metadata": {},
   "outputs": [
    {
     "name": "stdout",
     "output_type": "stream",
     "text": [
      " ARIMA(0,1,0)(0,0,0)[0] intercept   : AIC=-94887.931, Time=0.54 sec\n",
      " ARIMA(0,1,1)(0,0,0)[0] intercept   : AIC=-96198.343, Time=0.75 sec\n",
      " ARIMA(0,1,2)(0,0,0)[0] intercept   : AIC=-96439.425, Time=1.00 sec\n",
      " ARIMA(0,1,3)(0,0,0)[0] intercept   : AIC=-91221.997, Time=0.75 sec\n",
      " ARIMA(0,1,4)(0,0,0)[0] intercept   : AIC=-91220.073, Time=1.15 sec\n",
      " ARIMA(0,1,5)(0,0,0)[0] intercept   : AIC=-95607.747, Time=2.13 sec\n",
      " ARIMA(1,1,0)(0,0,0)[0] intercept   : AIC=-94886.317, Time=0.73 sec\n",
      " ARIMA(1,1,1)(0,0,0)[0] intercept   : AIC=-91223.966, Time=0.53 sec\n",
      " ARIMA(1,1,2)(0,0,0)[0] intercept   : AIC=-92613.340, Time=2.32 sec\n",
      " ARIMA(1,1,3)(0,0,0)[0] intercept   : AIC=-92193.380, Time=2.27 sec\n",
      " ARIMA(1,1,4)(0,0,0)[0] intercept   : AIC=-93043.555, Time=2.94 sec\n",
      " ARIMA(2,1,0)(0,0,0)[0] intercept   : AIC=-94884.580, Time=0.96 sec\n",
      " ARIMA(2,1,1)(0,0,0)[0] intercept   : AIC=-94882.162, Time=1.17 sec\n",
      " ARIMA(2,1,2)(0,0,0)[0] intercept   : AIC=-91343.487, Time=2.62 sec\n",
      " ARIMA(2,1,3)(0,0,0)[0] intercept   : AIC=-96177.511, Time=1.78 sec\n",
      " ARIMA(3,1,0)(0,0,0)[0] intercept   : AIC=-94881.766, Time=1.24 sec\n",
      " ARIMA(3,1,1)(0,0,0)[0] intercept   : AIC=-96224.741, Time=1.37 sec\n",
      " ARIMA(3,1,2)(0,0,0)[0] intercept   : AIC=-96733.308, Time=1.54 sec\n",
      " ARIMA(4,1,0)(0,0,0)[0] intercept   : AIC=-94879.561, Time=1.65 sec\n",
      " ARIMA(4,1,1)(0,0,0)[0] intercept   : AIC=-96215.517, Time=1.72 sec\n",
      " ARIMA(5,1,0)(0,0,0)[0] intercept   : AIC=-94877.182, Time=2.15 sec\n",
      "\n",
      "Best model:  ARIMA(3,1,2)(0,0,0)[0] intercept\n",
      "Total fit time: 31.313 seconds\n",
      "                               SARIMAX Results                                \n",
      "==============================================================================\n",
      "Dep. Variable:                      y   No. Observations:                 4308\n",
      "Model:               SARIMAX(3, 1, 2)   Log Likelihood               48373.654\n",
      "Date:                Sat, 23 Nov 2024   AIC                         -96733.308\n",
      "Time:                        08:10:00   BIC                         -96688.732\n",
      "Sample:                             0   HQIC                        -96717.566\n",
      "                               - 4308                                         \n",
      "Covariance Type:                  opg                                         \n",
      "==============================================================================\n",
      "                 coef    std err          z      P>|z|      [0.025      0.975]\n",
      "------------------------------------------------------------------------------\n",
      "intercept  -3.708e-06   5.12e-07     -7.245      0.000   -4.71e-06   -2.71e-06\n",
      "ar.L1          0.3308   4.36e-13   7.59e+11      0.000       0.331       0.331\n",
      "ar.L2         -0.3736   8.22e-13  -4.55e+11      0.000      -0.374      -0.374\n",
      "ar.L3          0.1343    8.2e-13   1.64e+11      0.000       0.134       0.134\n",
      "ma.L1         -0.1379    1.3e-12  -1.06e+11      0.000      -0.138      -0.138\n",
      "ma.L2          0.3039   9.92e-13   3.06e+11      0.000       0.304       0.304\n",
      "sigma2       9.28e-12   2.89e-10      0.032      0.974   -5.58e-10    5.76e-10\n",
      "===================================================================================\n",
      "Ljung-Box (L1) (Q):                   7.62   Jarque-Bera (JB):          55897604.58\n",
      "Prob(Q):                              0.01   Prob(JB):                         0.00\n",
      "Heteroskedasticity (H):               0.98   Skew:                             4.75\n",
      "Prob(H) (two-sided):                  0.74   Kurtosis:                       561.02\n",
      "===================================================================================\n",
      "\n",
      "Warnings:\n",
      "[1] Covariance matrix calculated using the outer product of gradients (complex-step).\n",
      "[2] Covariance matrix is singular or near-singular, with condition number    inf. Standard errors may be unstable.\n"
     ]
    }
   ],
   "source": [
    "# Fitting an ARIMA model with best paramaters using grid search\n",
    "arima_model = pm.auto_arima(target_variable_bmm,\n",
    "                            start_p = 0, start_q = 0, start_d = 0,\n",
    "                            max_p = 5, max_q = 5, max_d = 5,\n",
    "                            seasonal = False,\n",
    "                            stepwise = False,\n",
    "                            trace = True)\n",
    "\n",
    "print(arima_model.summary())"
   ]
  }
 ],
 "metadata": {
  "kernelspec": {
   "display_name": "Python 3",
   "language": "python",
   "name": "python3"
  },
  "language_info": {
   "codemirror_mode": {
    "name": "ipython",
    "version": 3
   },
   "file_extension": ".py",
   "mimetype": "text/x-python",
   "name": "python",
   "nbconvert_exporter": "python",
   "pygments_lexer": "ipython3",
   "version": "3.12.3"
  }
 },
 "nbformat": 4,
 "nbformat_minor": 2
}

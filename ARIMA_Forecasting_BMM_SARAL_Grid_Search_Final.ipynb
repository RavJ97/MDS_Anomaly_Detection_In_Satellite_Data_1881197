{
 "cells": [
  {
   "cell_type": "code",
   "execution_count": 1,
   "metadata": {},
   "outputs": [],
   "source": [
    "import pmdarima as pm\n",
    "import pandas as pd"
   ]
  },
  {
   "cell_type": "code",
   "execution_count": 2,
   "metadata": {},
   "outputs": [
    {
     "data": {
      "text/plain": [
       "0       0.062543\n",
       "1       0.062543\n",
       "2       0.062543\n",
       "3       0.062525\n",
       "4       0.062531\n",
       "          ...   \n",
       "3285    0.062523\n",
       "3286    0.062523\n",
       "3287    0.062523\n",
       "3288    0.062523\n",
       "3289    0.062523\n",
       "Name: Brouwer mean motion, Length: 3290, dtype: float64"
      ]
     },
     "execution_count": 2,
     "metadata": {},
     "output_type": "execute_result"
    }
   ],
   "source": [
    "# Location to the file containing the csv file for the data\n",
    "csv_file_path = \"satellite_data/orbital_elements/unpropagated_elements_SARAL.csv\"\n",
    "\n",
    "# Reading the csv data file and creating a dataframe\n",
    "df = pd.read_csv(csv_file_path)\n",
    "\n",
    "# Getting the target variable\n",
    "target_variable_bmm = df['Brouwer mean motion']\n",
    "target_variable_bmm"
   ]
  },
  {
   "cell_type": "code",
   "execution_count": 3,
   "metadata": {},
   "outputs": [
    {
     "name": "stdout",
     "output_type": "stream",
     "text": [
      " ARIMA(0,1,0)(0,0,0)[0] intercept   : AIC=-72434.770, Time=0.52 sec\n",
      " ARIMA(0,1,1)(0,0,0)[0] intercept   : AIC=-70601.750, Time=0.92 sec\n",
      " ARIMA(0,1,2)(0,0,0)[0] intercept   : AIC=-71894.460, Time=0.83 sec\n",
      " ARIMA(0,1,3)(0,0,0)[0] intercept   : AIC=-70866.319, Time=1.51 sec\n",
      " ARIMA(0,1,4)(0,0,0)[0] intercept   : AIC=-70719.901, Time=1.94 sec\n",
      " ARIMA(0,1,5)(0,0,0)[0] intercept   : AIC=-70522.703, Time=2.48 sec\n",
      " ARIMA(1,1,0)(0,0,0)[0] intercept   : AIC=-72433.522, Time=0.58 sec\n",
      " ARIMA(1,1,1)(0,0,0)[0] intercept   : AIC=-70061.359, Time=1.36 sec\n"
     ]
    },
    {
     "name": "stderr",
     "output_type": "stream",
     "text": [
      "/Library/Frameworks/Python.framework/Versions/3.12/lib/python3.12/site-packages/statsmodels/tsa/statespace/sarimax.py:1905: RuntimeWarning: divide by zero encountered in reciprocal\n",
      "  return np.roots(self.polynomial_reduced_ma)**-1\n"
     ]
    },
    {
     "name": "stdout",
     "output_type": "stream",
     "text": [
      " ARIMA(1,1,2)(0,0,0)[0] intercept   : AIC=-69619.843, Time=0.34 sec\n",
      " ARIMA(1,1,3)(0,0,0)[0] intercept   : AIC=-70491.654, Time=2.90 sec\n",
      " ARIMA(1,1,4)(0,0,0)[0] intercept   : AIC=-69646.152, Time=1.00 sec\n",
      " ARIMA(2,1,0)(0,0,0)[0] intercept   : AIC=-72431.629, Time=0.80 sec\n",
      " ARIMA(2,1,1)(0,0,0)[0] intercept   : AIC=-69680.734, Time=2.28 sec\n",
      " ARIMA(2,1,2)(0,0,0)[0] intercept   : AIC=-69648.023, Time=0.63 sec\n",
      " ARIMA(2,1,3)(0,0,0)[0] intercept   : AIC=-70454.066, Time=2.99 sec\n",
      " ARIMA(3,1,0)(0,0,0)[0] intercept   : AIC=-72431.697, Time=1.01 sec\n",
      " ARIMA(3,1,1)(0,0,0)[0] intercept   : AIC=-71147.328, Time=1.66 sec\n",
      " ARIMA(3,1,2)(0,0,0)[0] intercept   : AIC=-72425.867, Time=1.35 sec\n",
      " ARIMA(4,1,0)(0,0,0)[0] intercept   : AIC=-72428.465, Time=1.36 sec\n",
      " ARIMA(4,1,1)(0,0,0)[0] intercept   : AIC=-72447.436, Time=1.49 sec\n",
      " ARIMA(5,1,0)(0,0,0)[0] intercept   : AIC=-72426.923, Time=1.74 sec\n",
      "\n",
      "Best model:  ARIMA(4,1,1)(0,0,0)[0] intercept\n",
      "Total fit time: 29.693 seconds\n",
      "                               SARIMAX Results                                \n",
      "==============================================================================\n",
      "Dep. Variable:                      y   No. Observations:                 3290\n",
      "Model:               SARIMAX(4, 1, 1)   Log Likelihood               36230.718\n",
      "Date:                Fri, 22 Nov 2024   AIC                         -72447.436\n",
      "Time:                        00:07:01   BIC                         -72404.748\n",
      "Sample:                             0   HQIC                        -72432.153\n",
      "                               - 3290                                         \n",
      "Covariance Type:                  opg                                         \n",
      "==============================================================================\n",
      "                 coef    std err          z      P>|z|      [0.025      0.975]\n",
      "------------------------------------------------------------------------------\n",
      "intercept  -3.754e-06   9.09e-07     -4.132      0.000   -5.53e-06   -1.97e-06\n",
      "ar.L1          0.0100   1.03e-12    9.7e+09      0.000       0.010       0.010\n",
      "ar.L2         -0.0356   6.66e-13  -5.34e+10      0.000      -0.036      -0.036\n",
      "ar.L3         -0.0272   1.39e-12  -1.96e+10      0.000      -0.027      -0.027\n",
      "ar.L4         -0.0098   2.21e-12  -4.42e+09      0.000      -0.010      -0.010\n",
      "ma.L1          0.0020   2.24e-12   8.81e+08      0.000       0.002       0.002\n",
      "sigma2      2.319e-11   2.84e-10      0.082      0.935   -5.34e-10     5.8e-10\n",
      "===================================================================================\n",
      "Ljung-Box (L1) (Q):                 284.66   Jarque-Bera (JB):         171455461.61\n",
      "Prob(Q):                              0.00   Prob(JB):                         0.00\n",
      "Heteroskedasticity (H):               0.98   Skew:                           -28.03\n",
      "Prob(H) (two-sided):                  0.68   Kurtosis:                      1120.13\n",
      "===================================================================================\n",
      "\n",
      "Warnings:\n",
      "[1] Covariance matrix calculated using the outer product of gradients (complex-step).\n",
      "[2] Covariance matrix is singular or near-singular, with condition number 1.56e+28. Standard errors may be unstable.\n"
     ]
    }
   ],
   "source": [
    "# Fitting an ARIMA model with best paramaters using grid search\n",
    "arima_model = pm.auto_arima(target_variable_bmm,\n",
    "                            start_p = 0, start_q = 0, start_d = 0,\n",
    "                            max_p = 5, max_q = 5, max_d = 5,\n",
    "                            seasonal = False,\n",
    "                            stepwise = False,\n",
    "                            trace = True)\n",
    "\n",
    "print(arima_model.summary())"
   ]
  }
 ],
 "metadata": {
  "kernelspec": {
   "display_name": "Python 3",
   "language": "python",
   "name": "python3"
  },
  "language_info": {
   "codemirror_mode": {
    "name": "ipython",
    "version": 3
   },
   "file_extension": ".py",
   "mimetype": "text/x-python",
   "name": "python",
   "nbconvert_exporter": "python",
   "pygments_lexer": "ipython3",
   "version": "3.12.3"
  }
 },
 "nbformat": 4,
 "nbformat_minor": 2
}

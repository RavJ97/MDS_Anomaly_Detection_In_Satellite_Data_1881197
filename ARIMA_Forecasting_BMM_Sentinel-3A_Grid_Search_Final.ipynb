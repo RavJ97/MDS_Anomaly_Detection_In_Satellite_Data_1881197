{
 "cells": [
  {
   "cell_type": "code",
   "execution_count": 1,
   "metadata": {},
   "outputs": [],
   "source": [
    "import pmdarima as pm\n",
    "import pandas as pd"
   ]
  },
  {
   "cell_type": "code",
   "execution_count": 2,
   "metadata": {},
   "outputs": [
    {
     "data": {
      "text/plain": [
       "0       0.06229\n",
       "1       0.06229\n",
       "2       0.06229\n",
       "3       0.06229\n",
       "4       0.06229\n",
       "         ...   \n",
       "2380    0.06229\n",
       "2381    0.06229\n",
       "2382    0.06229\n",
       "2383    0.06229\n",
       "2384    0.06229\n",
       "Name: Brouwer mean motion, Length: 2385, dtype: float64"
      ]
     },
     "execution_count": 2,
     "metadata": {},
     "output_type": "execute_result"
    }
   ],
   "source": [
    "# Location to the file containing the csv file for the data\n",
    "csv_file_path = \"satellite_data/orbital_elements/unpropagated_elements_Sentinel-3A.csv\"\n",
    "\n",
    "# Reading the csv data file and creating a dataframe\n",
    "df = pd.read_csv(csv_file_path)\n",
    "\n",
    "# Getting the target variable\n",
    "target_variable_bmm = df['Brouwer mean motion']\n",
    "target_variable_bmm"
   ]
  },
  {
   "cell_type": "code",
   "execution_count": 4,
   "metadata": {},
   "outputs": [
    {
     "name": "stdout",
     "output_type": "stream",
     "text": [
      " ARIMA(0,0,0)(0,0,0)[0]             : AIC=-6470.940, Time=0.08 sec\n",
      " ARIMA(0,0,1)(0,0,0)[0]             : AIC=inf, Time=0.39 sec\n",
      " ARIMA(0,0,2)(0,0,0)[0]             : AIC=inf, Time=0.57 sec\n",
      " ARIMA(0,0,3)(0,0,0)[0]             : AIC=inf, Time=0.77 sec\n",
      " ARIMA(0,0,4)(0,0,0)[0]             : AIC=inf, Time=1.33 sec\n",
      " ARIMA(0,0,5)(0,0,0)[0]             : AIC=inf, Time=1.55 sec\n",
      " ARIMA(1,0,0)(0,0,0)[0]             : AIC=inf, Time=0.70 sec\n",
      " ARIMA(1,0,1)(0,0,0)[0]             : AIC=inf, Time=0.81 sec\n",
      " ARIMA(1,0,2)(0,0,0)[0]             : AIC=inf, Time=1.08 sec\n",
      " ARIMA(1,0,3)(0,0,0)[0]             : AIC=inf, Time=1.88 sec\n",
      " ARIMA(1,0,4)(0,0,0)[0]             : AIC=inf, Time=1.20 sec\n",
      " ARIMA(2,0,0)(0,0,0)[0]             : AIC=inf, Time=1.00 sec\n",
      " ARIMA(2,0,1)(0,0,0)[0]             : AIC=-45885.532, Time=0.93 sec\n",
      " ARIMA(2,0,2)(0,0,0)[0]             : AIC=inf, Time=1.84 sec\n",
      " ARIMA(2,0,3)(0,0,0)[0]             : AIC=inf, Time=1.81 sec\n",
      " ARIMA(3,0,0)(0,0,0)[0]             : AIC=inf, Time=1.04 sec\n",
      " ARIMA(3,0,1)(0,0,0)[0]             : AIC=-44480.852, Time=1.04 sec\n",
      " ARIMA(3,0,2)(0,0,0)[0]             : AIC=-44027.815, Time=1.41 sec\n",
      " ARIMA(4,0,0)(0,0,0)[0]             : AIC=inf, Time=1.34 sec\n",
      " ARIMA(4,0,1)(0,0,0)[0]             : AIC=-59118.914, Time=1.98 sec\n",
      " ARIMA(5,0,0)(0,0,0)[0]             : AIC=inf, Time=1.37 sec\n",
      "\n",
      "Best model:  ARIMA(4,0,1)(0,0,0)[0]          \n",
      "Total fit time: 24.138 seconds\n",
      "                               SARIMAX Results                                \n",
      "==============================================================================\n",
      "Dep. Variable:                      y   No. Observations:                 2385\n",
      "Model:               SARIMAX(4, 0, 1)   Log Likelihood               29565.457\n",
      "Date:                Thu, 21 Nov 2024   AIC                         -59118.914\n",
      "Time:                        23:48:51   BIC                         -59084.253\n",
      "Sample:                             0   HQIC                        -59106.300\n",
      "                               - 2385                                         \n",
      "Covariance Type:                  opg                                         \n",
      "==============================================================================\n",
      "                 coef    std err          z      P>|z|      [0.025      0.975]\n",
      "------------------------------------------------------------------------------\n",
      "ar.L1         -1.9559      0.000  -7669.016      0.000      -1.956      -1.955\n",
      "ar.L2          0.0087      0.001     14.665      0.000       0.008       0.010\n",
      "ar.L3          1.9560      0.000   1.86e+04      0.000       1.956       1.956\n",
      "ar.L4          0.9911      0.001   1194.172      0.000       0.989       0.993\n",
      "ma.L1          0.9801   4.23e-07   2.32e+06      0.000       0.980       0.980\n",
      "sigma2      2.564e-12   9.41e-11      0.027      0.978   -1.82e-10    1.87e-10\n",
      "===================================================================================\n",
      "Ljung-Box (L1) (Q):                  42.82   Jarque-Bera (JB):         229996493.37\n",
      "Prob(Q):                              0.00   Prob(JB):                         0.00\n",
      "Heteroskedasticity (H):               0.14   Skew:                            34.41\n",
      "Prob(H) (two-sided):                  0.00   Kurtosis:                      1522.77\n",
      "===================================================================================\n",
      "\n",
      "Warnings:\n",
      "[1] Covariance matrix calculated using the outer product of gradients (complex-step).\n",
      "[2] Covariance matrix is singular or near-singular, with condition number 4.41e+22. Standard errors may be unstable.\n"
     ]
    }
   ],
   "source": [
    "# Fitting an ARIMA model with best paramaters using grid search\n",
    "arima_model = pm.auto_arima(target_variable_bmm,\n",
    "                            start_p = 0, start_q = 0, start_d = 0,\n",
    "                            max_p = 5, max_q = 5, max_d = 5,\n",
    "                            seasonal = False,\n",
    "                            stepwise = False,\n",
    "                            trace = True)\n",
    "\n",
    "print(arima_model.summary())"
   ]
  }
 ],
 "metadata": {
  "kernelspec": {
   "display_name": "Python 3",
   "language": "python",
   "name": "python3"
  },
  "language_info": {
   "codemirror_mode": {
    "name": "ipython",
    "version": 3
   },
   "file_extension": ".py",
   "mimetype": "text/x-python",
   "name": "python",
   "nbconvert_exporter": "python",
   "pygments_lexer": "ipython3",
   "version": "3.12.3"
  }
 },
 "nbformat": 4,
 "nbformat_minor": 2
}

{
 "cells": [
  {
   "cell_type": "code",
   "execution_count": 1,
   "metadata": {},
   "outputs": [],
   "source": [
    "import pmdarima as pm\n",
    "import pandas as pd"
   ]
  },
  {
   "cell_type": "code",
   "execution_count": 2,
   "metadata": {},
   "outputs": [
    {
     "data": {
      "text/plain": [
       "0       0.056076\n",
       "1       0.055859\n",
       "2       0.055784\n",
       "3       0.055784\n",
       "4       0.055784\n",
       "          ...   \n",
       "2405    0.055907\n",
       "2406    0.055907\n",
       "2407    0.055907\n",
       "2408    0.055907\n",
       "2409    0.055907\n",
       "Name: Brouwer mean motion, Length: 2410, dtype: float64"
      ]
     },
     "execution_count": 2,
     "metadata": {},
     "output_type": "execute_result"
    }
   ],
   "source": [
    "# Location to the file containing the csv file for the data\n",
    "csv_file_path = \"satellite_data/orbital_elements/unpropagated_elements_Jason-3.csv\"\n",
    "\n",
    "# Reading the csv data file and creating a dataframe\n",
    "df = pd.read_csv(csv_file_path)\n",
    "\n",
    "# Getting the target variable\n",
    "target_variable_bmm = df['Brouwer mean motion']\n",
    "target_variable_bmm"
   ]
  },
  {
   "cell_type": "code",
   "execution_count": 5,
   "metadata": {},
   "outputs": [
    {
     "name": "stdout",
     "output_type": "stream",
     "text": [
      " ARIMA(0,0,0)(0,0,0)[0]             : AIC=-7059.975, Time=0.08 sec\n",
      " ARIMA(0,0,1)(0,0,0)[0]             : AIC=inf, Time=0.42 sec\n",
      " ARIMA(0,0,2)(0,0,0)[0]             : AIC=inf, Time=0.43 sec\n",
      " ARIMA(0,0,3)(0,0,0)[0]             : AIC=inf, Time=0.68 sec\n",
      " ARIMA(0,0,4)(0,0,0)[0]             : AIC=inf, Time=1.62 sec\n",
      " ARIMA(0,0,5)(0,0,0)[0]             : AIC=inf, Time=0.83 sec\n",
      " ARIMA(1,0,0)(0,0,0)[0]             : AIC=inf, Time=0.18 sec\n",
      " ARIMA(1,0,1)(0,0,0)[0]             : AIC=inf, Time=1.01 sec\n",
      " ARIMA(1,0,2)(0,0,0)[0]             : AIC=inf, Time=1.22 sec\n",
      " ARIMA(1,0,3)(0,0,0)[0]             : AIC=inf, Time=1.56 sec\n",
      " ARIMA(1,0,4)(0,0,0)[0]             : AIC=inf, Time=2.35 sec\n",
      " ARIMA(2,0,0)(0,0,0)[0]             : AIC=inf, Time=0.89 sec\n",
      " ARIMA(2,0,1)(0,0,0)[0]             : AIC=inf, Time=1.23 sec\n",
      " ARIMA(2,0,2)(0,0,0)[0]             : AIC=-41125.340, Time=1.00 sec\n",
      " ARIMA(2,0,3)(0,0,0)[0]             : AIC=-36880.273, Time=1.52 sec\n",
      " ARIMA(3,0,0)(0,0,0)[0]             : AIC=inf, Time=0.89 sec\n",
      " ARIMA(3,0,1)(0,0,0)[0]             : AIC=-46257.701, Time=1.06 sec\n",
      " ARIMA(3,0,2)(0,0,0)[0]             : AIC=-46064.545, Time=1.81 sec\n",
      " ARIMA(4,0,0)(0,0,0)[0]             : AIC=inf, Time=1.44 sec\n",
      " ARIMA(4,0,1)(0,0,0)[0]             : AIC=-45862.852, Time=1.23 sec\n",
      " ARIMA(5,0,0)(0,0,0)[0]             : AIC=inf, Time=1.28 sec\n",
      "\n",
      "Best model:  ARIMA(3,0,1)(0,0,0)[0]          \n",
      "Total fit time: 22.752 seconds\n",
      "                               SARIMAX Results                                \n",
      "==============================================================================\n",
      "Dep. Variable:                      y   No. Observations:                 2410\n",
      "Model:               SARIMAX(3, 0, 1)   Log Likelihood               23133.851\n",
      "Date:                Fri, 22 Nov 2024   AIC                         -46257.701\n",
      "Time:                        00:20:52   BIC                         -46228.764\n",
      "Sample:                             0   HQIC                        -46247.176\n",
      "                               - 2410                                         \n",
      "Covariance Type:                  opg                                         \n",
      "==============================================================================\n",
      "                 coef    std err          z      P>|z|      [0.025      0.975]\n",
      "------------------------------------------------------------------------------\n",
      "ar.L1         -0.9515      5e-05   -1.9e+04      0.000      -0.952      -0.951\n",
      "ar.L2          0.9678      0.000   4497.429      0.000       0.967       0.968\n",
      "ar.L3          0.9836      0.000   3709.230      0.000       0.983       0.984\n",
      "ma.L1          0.9707   2.93e-06   3.31e+05      0.000       0.971       0.971\n",
      "sigma2      2.589e-10   4.37e-11      5.931      0.000    1.73e-10    3.45e-10\n",
      "===================================================================================\n",
      "Ljung-Box (L1) (Q):                 437.89   Jarque-Bera (JB):           9547040.95\n",
      "Prob(Q):                              0.00   Prob(JB):                         0.00\n",
      "Heteroskedasticity (H):               0.99   Skew:                            -8.07\n",
      "Prob(H) (two-sided):                  0.88   Kurtosis:                       310.92\n",
      "===================================================================================\n",
      "\n",
      "Warnings:\n",
      "[1] Covariance matrix calculated using the outer product of gradients (complex-step).\n",
      "[2] Covariance matrix is singular or near-singular, with condition number 3.5e+19. Standard errors may be unstable.\n"
     ]
    }
   ],
   "source": [
    "# Fitting an ARIMA model with best paramaters using grid search\n",
    "arima_model = pm.auto_arima(target_variable_bmm,\n",
    "                            start_p = 0, start_q = 0, #start_d = 0,\n",
    "                            max_p = 5, max_q = 5, #max_d = 5,\n",
    "                            seasonal = False,\n",
    "                            stepwise = False,\n",
    "                            trace = True)\n",
    "\n",
    "print(arima_model.summary())"
   ]
  }
 ],
 "metadata": {
  "kernelspec": {
   "display_name": "Python 3",
   "language": "python",
   "name": "python3"
  },
  "language_info": {
   "codemirror_mode": {
    "name": "ipython",
    "version": 3
   },
   "file_extension": ".py",
   "mimetype": "text/x-python",
   "name": "python",
   "nbconvert_exporter": "python",
   "pygments_lexer": "ipython3",
   "version": "3.12.3"
  }
 },
 "nbformat": 4,
 "nbformat_minor": 2
}

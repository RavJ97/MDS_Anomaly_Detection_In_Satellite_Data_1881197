{
 "cells": [
  {
   "cell_type": "code",
   "execution_count": 1,
   "metadata": {},
   "outputs": [],
   "source": [
    "import pmdarima as pm\n",
    "import pandas as pd"
   ]
  },
  {
   "cell_type": "code",
   "execution_count": 2,
   "metadata": {},
   "outputs": [
    {
     "data": {
      "text/plain": [
       "0       0.004375\n",
       "1       0.004375\n",
       "2       0.004375\n",
       "3       0.004375\n",
       "4       0.004375\n",
       "          ...   \n",
       "1182    0.004375\n",
       "1183    0.004375\n",
       "1184    0.004375\n",
       "1185    0.004375\n",
       "1186    0.004375\n",
       "Name: Brouwer mean motion, Length: 1187, dtype: float64"
      ]
     },
     "execution_count": 2,
     "metadata": {},
     "output_type": "execute_result"
    }
   ],
   "source": [
    "# Location to the file containing the csv file for the data\n",
    "csv_file_path = \"satellite_data/orbital_elements/unpropagated_elements_Fengyun-2D.csv\"\n",
    "\n",
    "# Reading the csv data file and creating a dataframe\n",
    "df = pd.read_csv(csv_file_path)\n",
    "\n",
    "# Getting the target variable\n",
    "target_variable_bmm = df['Brouwer mean motion']\n",
    "target_variable_bmm"
   ]
  },
  {
   "cell_type": "code",
   "execution_count": 3,
   "metadata": {},
   "outputs": [
    {
     "name": "stdout",
     "output_type": "stream",
     "text": [
      " ARIMA(0,0,0)(0,0,0)[0]             : AIC=-9524.640, Time=0.08 sec\n",
      " ARIMA(0,0,1)(0,0,0)[0]             : AIC=inf, Time=0.24 sec\n",
      " ARIMA(0,0,2)(0,0,0)[0]             : AIC=-12712.528, Time=0.37 sec\n",
      " ARIMA(0,0,3)(0,0,0)[0]             : AIC=inf, Time=0.26 sec\n",
      " ARIMA(0,0,4)(0,0,0)[0]             : AIC=inf, Time=0.33 sec\n",
      " ARIMA(0,0,5)(0,0,0)[0]             : AIC=inf, Time=0.38 sec\n",
      " ARIMA(1,0,0)(0,0,0)[0]             : AIC=inf, Time=0.11 sec\n",
      " ARIMA(1,0,1)(0,0,0)[0]             : AIC=-30567.544, Time=0.15 sec\n",
      " ARIMA(1,0,2)(0,0,0)[0]             : AIC=-30562.958, Time=0.19 sec\n",
      " ARIMA(1,0,3)(0,0,0)[0]             : AIC=inf, Time=1.31 sec\n",
      " ARIMA(1,0,4)(0,0,0)[0]             : AIC=inf, Time=0.93 sec\n",
      " ARIMA(2,0,0)(0,0,0)[0]             : AIC=inf, Time=0.15 sec\n",
      " ARIMA(2,0,1)(0,0,0)[0]             : AIC=-30561.191, Time=0.19 sec\n",
      " ARIMA(2,0,2)(0,0,0)[0]             : AIC=-30501.750, Time=0.23 sec\n",
      " ARIMA(2,0,3)(0,0,0)[0]             : AIC=-20760.529, Time=0.67 sec\n",
      " ARIMA(3,0,0)(0,0,0)[0]             : AIC=inf, Time=0.20 sec\n",
      " ARIMA(3,0,1)(0,0,0)[0]             : AIC=-30189.223, Time=0.23 sec\n",
      " ARIMA(3,0,2)(0,0,0)[0]             : AIC=-30499.712, Time=0.27 sec\n",
      " ARIMA(4,0,0)(0,0,0)[0]             : AIC=inf, Time=0.84 sec\n",
      " ARIMA(4,0,1)(0,0,0)[0]             : AIC=-22906.330, Time=1.18 sec\n",
      " ARIMA(5,0,0)(0,0,0)[0]             : AIC=inf, Time=0.30 sec\n",
      "\n",
      "Best model:  ARIMA(1,0,1)(0,0,0)[0]          \n",
      "Total fit time: 8.647 seconds\n",
      "                               SARIMAX Results                                \n",
      "==============================================================================\n",
      "Dep. Variable:                      y   No. Observations:                 1187\n",
      "Model:               SARIMAX(1, 0, 1)   Log Likelihood               15286.772\n",
      "Date:                Sat, 23 Nov 2024   AIC                         -30567.544\n",
      "Time:                        08:08:39   BIC                         -30552.307\n",
      "Sample:                             0   HQIC                        -30561.801\n",
      "                               - 1187                                         \n",
      "Covariance Type:                  opg                                         \n",
      "==============================================================================\n",
      "                 coef    std err          z      P>|z|      [0.025      0.975]\n",
      "------------------------------------------------------------------------------\n",
      "ar.L1          1.0000   2.55e-07   3.92e+06      0.000       1.000       1.000\n",
      "ma.L1         -0.1795   4.46e-14  -4.02e+12      0.000      -0.179      -0.179\n",
      "sigma2      9.759e-13   5.51e-11      0.018      0.986   -1.07e-10    1.09e-10\n",
      "===================================================================================\n",
      "Ljung-Box (L1) (Q):                   0.05   Jarque-Bera (JB):             77031.06\n",
      "Prob(Q):                              0.82   Prob(JB):                         0.00\n",
      "Heteroskedasticity (H):               2.06   Skew:                             4.45\n",
      "Prob(H) (two-sided):                  0.00   Kurtosis:                        41.45\n",
      "===================================================================================\n",
      "\n",
      "Warnings:\n",
      "[1] Covariance matrix calculated using the outer product of gradients (complex-step).\n",
      "[2] Covariance matrix is singular or near-singular, with condition number    inf. Standard errors may be unstable.\n"
     ]
    }
   ],
   "source": [
    "# Fitting an ARIMA model with best paramaters using grid search\n",
    "arima_model = pm.auto_arima(target_variable_bmm,\n",
    "                            start_p = 0, start_q = 0, start_d = 0,\n",
    "                            max_p = 5, max_q = 5, max_d = 5,\n",
    "                            seasonal = False,\n",
    "                            stepwise = False,\n",
    "                            trace = True)\n",
    "\n",
    "print(arima_model.summary())"
   ]
  }
 ],
 "metadata": {
  "kernelspec": {
   "display_name": "Python 3",
   "language": "python",
   "name": "python3"
  },
  "language_info": {
   "codemirror_mode": {
    "name": "ipython",
    "version": 3
   },
   "file_extension": ".py",
   "mimetype": "text/x-python",
   "name": "python",
   "nbconvert_exporter": "python",
   "pygments_lexer": "ipython3",
   "version": "3.12.3"
  }
 },
 "nbformat": 4,
 "nbformat_minor": 2
}
